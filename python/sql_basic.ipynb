{
 "cells": [
  {
   "cell_type": "code",
   "execution_count": 2,
   "metadata": {},
   "outputs": [
    {
     "name": "stdout",
     "output_type": "stream",
     "text": [
      "('PostgreSQL 14.4 on aarch64-apple-darwin20.6.0, compiled by Apple clang version 12.0.5 (clang-1205.0.22.9), 64-bit',)\n",
      "Database connection closed\n"
     ]
    }
   ],
   "source": [
    "import psycopg2\n",
    "from config import config\n",
    "\n",
    "\n",
    "def connect():\n",
    "    conn = None\n",
    "    try:\n",
    "        params = config()\n",
    "        conn = psycopg2.connect(**params)\n",
    "        cur = conn.cursor()\n",
    "        cur.execute('SELECT version()')\n",
    "        db_version = cur.fetchone()\n",
    "        print(db_version)\n",
    "        cur.close()\n",
    "    except (Exception, psycopg2.DatabaseError) as error:\n",
    "        print(error)\n",
    "    finally:\n",
    "        if conn is not None:\n",
    "            conn.close()\n",
    "            print(\"Database connection closed\")\n",
    "            \n",
    "if __name__ == \"__main__\":\n",
    "    connect()\n",
    "        "
   ]
  },
  {
   "cell_type": "code",
   "execution_count": 5,
   "metadata": {},
   "outputs": [
    {
     "name": "stdout",
     "output_type": "stream",
     "text": [
      "DB connection closed\n"
     ]
    }
   ],
   "source": [
    "def create_tables():\n",
    "    sql_commands = (\n",
    "        \"\"\"\n",
    "        CREATE TABLE vendors(\n",
    "            vendor_id SERIAL PRIMARY KEY,\n",
    "            vendor_name VARCHAR(255) NOT NULL\n",
    "        )\n",
    "        \"\"\",\n",
    "        \"\"\"\n",
    "        CREATE TABLE parts(\n",
    "            part_id SERIAL PRIMARY KEY,\n",
    "            part_name VARCHAR(255) NOT NULL\n",
    "        )\n",
    "        \"\"\"\n",
    "    )\n",
    "    try:\n",
    "        params = config()\n",
    "        conn = psycopg2.connect(**params)\n",
    "        cur = conn.cursor()\n",
    "        for command in sql_commands:\n",
    "            cur.execute(command)\n",
    "            \n",
    "        cur.close()\n",
    "        conn.commit()\n",
    "        \n",
    "    except (Exception, psycopg2.DatabaseError) as error:\n",
    "        print(error)\n",
    "    \n",
    "    finally:\n",
    "        conn.close()\n",
    "        print(\"DB connection closed\")\n",
    "        \n",
    "create_tables()\n",
    "        "
   ]
  },
  {
   "cell_type": "code",
   "execution_count": 6,
   "metadata": {},
   "outputs": [],
   "source": [
    "params = config()\n",
    "conn = psycopg2.connect(**params)\n",
    "\n",
    "cur = conn.cursor()\n",
    "\n",
    "cur.execute(\"DROP TABLE IF EXISTS EMPLOYEE\")"
   ]
  },
  {
   "cell_type": "code",
   "execution_count": 7,
   "metadata": {},
   "outputs": [],
   "source": [
    "sql = \"\"\"\n",
    "CREATE TABLE EMPLOYEE (\n",
    "    FIRST_NAME VARCHAR(20) NOT NULL,\n",
    "    LAST_NAME VARCHAR(20),\n",
    "    AGE INT,\n",
    "    SEX CHAR(1),\n",
    "    INCOME FLOAT\n",
    ")\n",
    "\"\"\"\n",
    "cur.execute(sql)\n",
    "conn.commit()"
   ]
  },
  {
   "cell_type": "code",
   "execution_count": null,
   "metadata": {},
   "outputs": [],
   "source": []
  }
 ],
 "metadata": {
  "kernelspec": {
   "display_name": "Python 3.9.10 ('postgesql': venv)",
   "language": "python",
   "name": "python3"
  },
  "language_info": {
   "codemirror_mode": {
    "name": "ipython",
    "version": 3
   },
   "file_extension": ".py",
   "mimetype": "text/x-python",
   "name": "python",
   "nbconvert_exporter": "python",
   "pygments_lexer": "ipython3",
   "version": "3.9.10"
  },
  "orig_nbformat": 4,
  "vscode": {
   "interpreter": {
    "hash": "c2dfeb302d0b09850a791fe2fbb1e9b6d46b8964bb36f7c63a64fbf48cb951ef"
   }
  }
 },
 "nbformat": 4,
 "nbformat_minor": 2
}
